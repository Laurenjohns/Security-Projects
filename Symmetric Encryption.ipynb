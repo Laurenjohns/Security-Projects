{
 "cells": [
  {
   "cell_type": "code",
   "execution_count": 1,
   "id": "743d9273-5416-4570-8047-6fddabadf882",
   "metadata": {},
   "outputs": [
    {
     "name": "stdout",
     "output_type": "stream",
     "text": [
      "Requirement already satisfied: pycryptodome in c:\\users\\laure\\appdata\\local\\programs\\python\\python312\\lib\\site-packages (3.20.0)\n"
     ]
    }
   ],
   "source": [
    "!pip install pycryptodome"
   ]
  },
  {
   "cell_type": "code",
   "execution_count": 9,
   "id": "ac6d546a-533a-43f0-a955-2f5ad45806fb",
   "metadata": {},
   "outputs": [
    {
     "name": "stdout",
     "output_type": "stream",
     "text": [
      "b'\\xec\\x94}\\x1f\\xde\\t0c\\xbc'\n"
     ]
    }
   ],
   "source": [
    "from Crypto.Random import get_random_bytes\n",
    "from Crypto.Protocol.KDF import PBKDF2\n",
    "from Crypto.Cipher import AES\n",
    "from Crypto.Util.Padding import pad, unpad\n",
    "\n",
    "# Your code using pycryptodome\n",
    "simple_key = get_random_bytes(32)\n",
    "print(simple_key)\n"
   ]
  },
  {
   "cell_type": "code",
   "execution_count": 8,
   "id": "d98228fa-00b4-4f93-beb0-2ae9690de105",
   "metadata": {},
   "outputs": [
    {
     "name": "stdout",
     "output_type": "stream",
     "text": [
      "b'Hello Secret World!'\n"
     ]
    }
   ],
   "source": [
    "salt = b'\\x08AH\\xcd\\x\xbfW \\x98^'\n",
    "password = \"mypassword\"\n",
    "\n",
    "key = PBKDF2(password, salt, dkLen=32)\n",
    "\n",
    "message = \"Hello Secret World!\"\n",
    "message_bytes = message.encode('utf-8')\n",
    "\n",
    "cipher = AES.new(key, AES.MODE_CBC)\n",
    "ciphered_data = cipher.encrypt(pad(message_bytes, AES.block_size))\n",
    "\n",
    "with open('encrypted.bin', 'wb') as f:\n",
    "    f.write(cipher.iv)\n",
    "    f.write(ciphered_data)\n",
    "\n",
    "with open('encrypted.bin', 'rb') as f:\n",
    "    iv = f.read(16)\n",
    "    decrypt_data = f.read()\n",
    "\n",
    "cipher = AES.new(key, AES.MODE_CBC, iv=iv)\n",
    "original = unpad(cipher.decrypt(decrypt_data), AES.block_size)\n",
    "print(original)\n"
   ]
  },
  {
   "cell_type": "code",
   "execution_count": null,
   "id": "1fb08e12-bd56-436f-9df8-e8bfc0fc285e",
   "metadata": {},
   "outputs": [],
   "source": []
  }
 ],
 "metadata": {
  "kernelspec": {
   "display_name": "Python 3 (ipykernel)",
   "language": "python",
   "name": "python3"
  },
  "language_info": {
   "codemirror_mode": {
    "name": "ipython",
    "version": 3
   },
   "file_extension": ".py",
   "mimetype": "text/x-python",
   "name": "python",
   "nbconvert_exporter": "python",
   "pygments_lexer": "ipython3",
   "version": "3.12.1"
  }
 },
 "nbformat": 4,
 "nbformat_minor": 5
}
